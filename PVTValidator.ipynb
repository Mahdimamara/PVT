{
 "cells": [
  {
   "cell_type": "markdown",
   "id": "563f6ea9-773a-47c8-a65b-13dab844ff56",
   "metadata": {},
   "source": [
    "jupyter-lab"
   ]
  },
  {
   "cell_type": "code",
   "execution_count": 12,
   "id": "76758efa-6381-4381-b055-ccc27de69105",
   "metadata": {},
   "outputs": [],
   "source": [
    "import pandas as pd\n",
    "import numpy as np\n",
    "import matplotlib.pyplot as plt\n",
    "import seaborn as sns\n",
    "import math\n"
   ]
  },
  {
   "cell_type": "code",
   "execution_count": 24,
   "id": "72e27b30-ec13-485b-a47c-9fb5ad590a95",
   "metadata": {},
   "outputs": [],
   "source": [
    "Data = pd.read_excel(r'C:\\Users\\Mehdi\\Desktop\\AllCompS.xlsx')\n",
    "Data_Results = pd.read_excel(r'C:\\Users\\Mehdi\\Desktop\\1.xlsx')\n",
    "FAH_CU = Data_Results[(Data_Results.form == \"SAR\")]\n",
    "Data_Numpy = FAH_CU.to_numpy()\n",
    "FAH_CU2 = pd.DataFrame(Data_Numpy)"
   ]
  },
  {
   "cell_type": "markdown",
   "id": "6ad8c5e8-f360-447b-bd95-b687b26f3513",
   "metadata": {},
   "source": [
    "GOR Estimator"
   ]
  },
  {
   "cell_type": "code",
   "execution_count": 27,
   "id": "f5b87244-e316-48e7-a3b0-022d3b7b7748",
   "metadata": {},
   "outputs": [
    {
     "name": "stdout",
     "output_type": "stream",
     "text": [
      "        GOR_cal GOR Real        diff\n",
      "0    290.408095    403.0   27.938438\n",
      "1    394.650075    300.0   31.550025\n",
      "2    338.171035   346.48    2.398108\n",
      "3    326.318013    308.0    5.947407\n",
      "4    359.128202   432.75   17.012547\n",
      "5    246.624852   427.84   42.355822\n",
      "6    306.371057   372.52   17.757152\n",
      "7    302.079671   370.58   18.484627\n",
      "8    371.036279    314.2   18.089204\n",
      "9    445.397407    405.6    9.811984\n",
      "10   558.119670    383.3   45.609097\n",
      "11   423.419527    395.3    7.113465\n",
      "12   512.098450   462.94   10.618752\n",
      "13   306.707373    337.0    8.988910\n",
      "14   338.144208    357.0    5.281734\n",
      "15   352.915890    335.0    5.348027\n",
      "16   343.400635   362.91    5.375813\n",
      "17   361.801164   377.73    4.216990\n",
      "18   424.063925   385.78    9.923771\n",
      "19   344.790611   401.59   14.143626\n",
      "20   345.286943   393.45   12.241214\n",
      "21   352.980759   390.04    9.501395\n",
      "22   280.716467   333.24   15.761473\n",
      "23   334.566453    393.0   14.868587\n",
      "24   361.942687   417.98   13.406697\n",
      "25   316.233858   372.44   15.091328\n",
      "26   359.375712   376.37    4.515314\n",
      "27   352.215524   408.05   13.683244\n",
      "28   362.135207   407.33   11.095376\n",
      "29  1285.890017    479.0  168.453031\n",
      "30   689.537437   593.11   16.257935\n",
      "31   403.219420   465.34   13.349504\n",
      "32   300.836386   299.59    0.416031\n",
      "33   474.256124   448.42    5.761591\n",
      "34   388.363542   431.28    9.950950\n",
      "35   195.267085   333.82   41.505277\n",
      "36   408.364133   461.95   11.599928\n",
      "37   442.103984   451.97    2.182892\n",
      "38   422.932782   475.37   11.030822\n",
      "39   452.183938   457.54    1.170622\n",
      "40   448.918828   550.02   18.381363\n",
      "41   460.920485   515.71   10.624094\n",
      "42  2292.462596   440.83  420.033255\n",
      "43   327.482382   439.49   25.485817\n",
      "44   249.603714   290.57   14.098594\n",
      "45    43.882520    289.3   84.831483\n",
      "46   370.768012    266.8   38.968520\n",
      "47   255.269967   292.09   12.605715\n",
      "48   360.100132   424.33   15.136773\n",
      "49   325.616888   360.34    9.636208\n",
      "50   340.113775   361.69    5.965392\n",
      "51   232.445665   292.91   20.642633\n",
      "52   233.996133   292.98   20.132387\n",
      "53   376.794546   433.85   13.150963\n",
      "54   257.287276   309.22   16.794749\n"
     ]
    }
   ],
   "source": [
    "xi = []\n",
    "yi = []\n",
    "zi = []\n",
    "Ki = []\n",
    "GOR = []\n",
    "diff = []\n",
    "#Data without n2, co2, h2s\n",
    "Data2 = Data.iloc[3:, :]\n",
    "Liq_Dens = 62.4 * (141.5 / (FAH_CU2.loc[:, 7] + 131.5)) \n",
    "MW = FAH_CU2.loc[:, 24]\n",
    "GOR_Real = FAH_CU2.loc[:, 8]\n",
    "GOR_Real = GOR_Real.to_numpy()\n",
    "counter = 0\n",
    "for i in Data.columns:\n",
    "    Data3 = Data2[i].dropna()\n",
    "    if i%4 == 1:\n",
    "        xi.append(Data3)\n",
    "    elif i%4 == 2:\n",
    "        yi.append(Data3)\n",
    "    elif i%4 == 3:\n",
    "        zi.append(Data3)\n",
    "        counter += 1      \n",
    "for i in range(0,counter):\n",
    "    b, a = np.polyfit(xi[i]/zi[i], yi[i]/zi[i], deg=1)  \n",
    "    GOR.append(379.5 * Liq_Dens[i] * 5.615 / (-b * MW[i]))  #lb/ft3\n",
    "    diff.append(abs((GOR[i] - GOR_Real[i])*100/GOR_Real[i]))\n",
    "\n",
    "Dic = {'GOR_cal' : GOR, 'GOR Real' : GOR_Real, 'diff' : diff }\n",
    "Rep = pd.DataFrame(Dic)\n",
    "print(Rep)\n"
   ]
  },
  {
   "cell_type": "markdown",
   "id": "35d6aa5c-76c0-4887-9782-cc7ddae46815",
   "metadata": {},
   "source": [
    "Hoffman plot"
   ]
  },
  {
   "cell_type": "code",
   "execution_count": 34,
   "id": "2ce0c12a-695a-4b2c-8d8f-3548cb076699",
   "metadata": {},
   "outputs": [
    {
     "name": "stdout",
     "output_type": "stream",
     "text": [
      "Distance:  [0.250216728998782, 0.25004169116988445, 0.6364984427121599, 0.8093388955857574, 0.5103156474611831, 0.10617078077840261, 0.6909351548604232, 0.5283472472695802, 0.8215532714150005, 0.6603160017899314, 0.6855546060503819, 1.4032427494222357, 0.42425429884243426, 0.3190166759837152, 0.6504110082874737, 0.7860519587575115, 0.2738364368989459, 0.18033977728221393, 0.7294924234574626, 0.7964878309566242, 0.8656942325727438, 0.5682536450366262, 0.30377361246463463, 0.5335928321418065, 0.9923594676796654, 0.22766181899842727, 0.49647921782466453, 0.3760294378601974, 0.49647921782466453, 0.7823397814891575, 0.2499425594681558, 0.8786031890447901, 1.6463367154634412, 0.44251525906372213, 0.8169043134513221, 0.5362146556574637, 0.32418342407320355, 0.28108914474958047]\n"
     ]
    }
   ],
   "source": [
    "Tb = [201.27, 332.51, 416.25, 470.78, 491.08, 542.12, 556.92]\n",
    "Tc = [343.33, 549.92, 666.06, 734.46, 765.46, 829.1, 845.8]\n",
    "Pc = [666.4, 706.5, 616, 527.9, 550.6, 490.4, 488.6]\n",
    "T = 294.3 +460\n",
    "Psc = 14.7\n",
    "Psep = 14.7\n",
    "F = []\n",
    "Dist = []\n",
    "\n",
    "#Hoffman factor\n",
    "for i in range(0, len(Tb)):\n",
    "    F.append(((1/Tb[i])-(1/T)) * (np.log10(Pc[i]/Psc)) / ((1/Tb[i])-(1/Tc[i])))\n",
    "\n",
    "\n",
    "for i in range(0,counter):\n",
    "    Ki = yi[i][0:7]/xi[i][0:7]\n",
    "    #Plot log(Ki*Psep) Vs Fi\n",
    "    #plt.figure()\n",
    "    prod = np.dot(Ki, Psep)\n",
    "    logprod = np.log10(prod)\n",
    "    #plt.scatter(F, logprod)\n",
    "    m, c = np.polyfit(F, np.log10(prod), deg=1)\n",
    "    xseq = np.linspace(0, 3, num=100)\n",
    "    Dist.append(np.sum(abs(np.dot(m, F) - logprod + c) / math.sqrt(m**2 + 1)))\n",
    "    #plt.plot(xseq, c + m * xseq)\n",
    "    #plt.show()\n",
    "    \n",
    "print('Distance: ', Dist)"
   ]
  },
  {
   "cell_type": "markdown",
   "id": "9baa51b4-535c-4d08-b400-8a8962c212c4",
   "metadata": {},
   "source": [
    "Campbell-Buckley"
   ]
  },
  {
   "cell_type": "code",
   "execution_count": 35,
   "id": "4cd57d62-c109-467e-ad86-4c3d9518588e",
   "metadata": {},
   "outputs": [
    {
     "name": "stdout",
     "output_type": "stream",
     "text": [
      "[0.30193383009799235, 0.32995517220898857, 1.1655116204830391, 1.924331552296506, 1.1948240085234014, 0.1105492193284572, 1.5432227971569412, 1.2600672127452583, 1.7746331076176776, 1.480267387958397, 1.5119818923098574, 2.7965317887009626, 0.5244677737537758, 0.36848394586463046, 1.0886244958677276, 1.403109891082761, 0.27705188024235117, 0.14811676280603678, 1.0066998264853386, 1.8497364738060513, 2.009000013274023, 1.2872261180414273, 0.8564792926061708, 1.3552514552553403, 2.232580285921803, 0.6461244053837614, 1.354685523717695, 1.020131396814526, 1.354685523717695, 1.7004097924156565, 0.2473098007805743, 1.5817016322339814, 3.1806372444417264, 0.7359200772816396, 1.7517297216090393, 0.6881775563098931, 0.3888402538777588, 0.34304202240181225]\n"
     ]
    }
   ],
   "source": [
    "Dist2 = []\n",
    "xval = np.power(Tc, 2)/100000\n",
    "for i in range(0,counter):\n",
    "    Ki = yi[i][0:7]/xi[i][0:7]\n",
    "    #plt.figure()\n",
    "    logK = logprod = np.log10(Ki)\n",
    "    #plt.scatter(xval, logK)\n",
    "    m, c = np.polyfit(xval, logK, deg=1)\n",
    "    xseq = np.linspace(0, 8, num=100)\n",
    "    Dist2.append(np.sum(abs(np.dot(m, xval) - logK + c) / math.sqrt(m**2 + 1)))\n",
    "    #plt.plot(xseq, c + m * xseq)\n",
    "    \n",
    "print(Dist2)"
   ]
  },
  {
   "cell_type": "code",
   "execution_count": null,
   "id": "b7bddf97-bc58-46c1-b6ca-f4e121a605a7",
   "metadata": {},
   "outputs": [],
   "source": []
  }
 ],
 "metadata": {
  "kernelspec": {
   "display_name": "Python 3 (ipykernel)",
   "language": "python",
   "name": "python3"
  },
  "language_info": {
   "codemirror_mode": {
    "name": "ipython",
    "version": 3
   },
   "file_extension": ".py",
   "mimetype": "text/x-python",
   "name": "python",
   "nbconvert_exporter": "python",
   "pygments_lexer": "ipython3",
   "version": "3.10.2"
  }
 },
 "nbformat": 4,
 "nbformat_minor": 5
}
